{
 "cells": [
  {
   "cell_type": "code",
   "execution_count": 1,
   "metadata": {},
   "outputs": [],
   "source": [
    "import pandas as pd\n",
    "\n",
    "def loadData(path): \n",
    "\treturn pd.read_csv(path)"
   ]
  },
  {
   "cell_type": "code",
   "execution_count": 2,
   "metadata": {},
   "outputs": [
    {
     "name": "stdout",
     "output_type": "stream",
     "text": [
      "hello world ! how # are you ? !\n"
     ]
    },
    {
     "name": "stderr",
     "output_type": "stream",
     "text": [
      "[nltk_data] Downloading package punkt to\n",
      "[nltk_data]     C:\\Users\\Sauron\\AppData\\Roaming\\nltk_data...\n",
      "[nltk_data]   Package punkt is already up-to-date!\n"
     ]
    }
   ],
   "source": [
    "import nltk\n",
    "nltk.download('punkt')\n",
    "\n",
    "from nltk.tokenize import word_tokenize\n",
    "\n",
    "def flattenText(text): \n",
    "\twords = word_tokenize(text.lower())\n",
    "\treturn ' '.join(words)\n",
    "\n",
    "print(flattenText('Hello world! How #are you?!'))"
   ]
  },
  {
   "cell_type": "code",
   "execution_count": 3,
   "metadata": {},
   "outputs": [],
   "source": [
    "\n",
    "import re\n",
    "\n",
    "def extractTags(text):\n",
    "\thashtag_pattern = r\"#\\w+\"\n",
    "\treturn re.findall(hashtag_pattern, text)\n",
    "\t\n",
    "#print(extractTags('Hello world! How #are you?!'))"
   ]
  },
  {
   "cell_type": "code",
   "execution_count": 4,
   "metadata": {},
   "outputs": [],
   "source": [
    "from sklearn.feature_extraction.text import TfidfVectorizer\n",
    "from sklearn.preprocessing import MultiLabelBinarizer, LabelEncoder\n",
    "import numpy as np\n",
    "\n",
    "def textVectorizer(sentences):\n",
    "\tvectorizer = TfidfVectorizer()\n",
    "\tvectorizer.fit_transform(sentences)\n",
    "\treturn vectorizer\n",
    "\n",
    "def tagEncoder(labels):\n",
    "\tlabel_encoder = MultiLabelBinarizer()\n",
    "\tlabel_encoder.fit(labels)\n",
    "\treturn label_encoder\n",
    "\n",
    "def keywordEncoder(keywords):\n",
    "\tkeyword_encoder = MultiLabelBinarizer()\n",
    "\tkeyword_encoder.fit(keywords)\n",
    "\treturn keyword_encoder\n"
   ]
  },
  {
   "cell_type": "code",
   "execution_count": 5,
   "metadata": {},
   "outputs": [
    {
     "name": "stderr",
     "output_type": "stream",
     "text": [
      "C:\\Users\\Sauron\\AppData\\Roaming\\Python\\Python310\\site-packages\\requests\\__init__.py:102: RequestsDependencyWarning: urllib3 (1.26.8) or chardet (5.1.0)/charset_normalizer (2.0.12) doesn't match a supported version!\n",
      "  warnings.warn(\"urllib3 ({}) or chardet ({})/charset_normalizer ({}) doesn't match a supported \"\n"
     ]
    }
   ],
   "source": [
    "import nlpaug.augmenter.word as naw\n",
    "\n",
    "# Data augmentation using synonym replacement\n",
    "aug = naw.SynonymAug()\n",
    "\n",
    "def augment_text(text):\n",
    "\treturn \". \".join(aug.augment(text))\n"
   ]
  },
  {
   "cell_type": "code",
   "execution_count": 6,
   "metadata": {},
   "outputs": [
    {
     "data": {
      "text/plain": [
       "\" data = pd.DataFrame({\\n\\t'text': ['hello', 'world', 'how are you', 'what's your name', 'hi'],\\n\\t'target': [0, 0, 0, 1, 1],\\n})\\n\\ntarget_size = 5\\n\\n# Call the function to expand the dataset\\nexpanded_df = expand_dataset(data, target_size)\\n\\nprint(expanded_df) \""
      ]
     },
     "execution_count": 6,
     "metadata": {},
     "output_type": "execute_result"
    }
   ],
   "source": [
    "import pandas as pd\n",
    "import numpy as np\n",
    "\n",
    "def copy_row(rows):\n",
    "\trows['text'] = rows['text'].apply(augment_text)\n",
    "\treturn rows\n",
    "\n",
    "np.random.seed(42)\n",
    "\n",
    "def expand_dataset(data, target_size):\n",
    "\t# Calculate the current count of each target value\n",
    "\ttarget_counts = data['target'].value_counts()\n",
    "\n",
    "\t# Get the target values with counts less than the target size\n",
    "\ttargets_to_expand = target_counts[target_counts < target_size].index.tolist()\n",
    "\n",
    "\t# Create a list to store the expanded data\n",
    "\texpanded_data = []\n",
    "\n",
    "\t# Iterate through each target value to expand\n",
    "\tfor target_value in targets_to_expand:\n",
    "\t\t# Get the rows with the current target value\n",
    "\t\ttarget_rows = data[data['target'] == target_value]\n",
    "\n",
    "\t\t# Calculate how many rows to copy for the current target value\n",
    "\t\trows_to_copy = target_size - len(target_rows)\n",
    "\n",
    "\t\t# Randomly select rows from the current target value to copy\n",
    "\t\trows_to_copy_indices = np.random.choice(target_rows.index, rows_to_copy)\n",
    "\n",
    "\t\t#for index in rows_to_copy_indices:\n",
    "\t\t#\tcopy = copy_row(target_rows.loc[index])\n",
    "\t\t#\texpanded_data.append(copy)\n",
    "\t\texpanded_data.append(copy_row(target_rows.loc[rows_to_copy_indices]))\n",
    "\t\n",
    "\t# Concatenate the original data and the expanded data\n",
    "\texpanded_data_df = pd.concat([data] + expanded_data, ignore_index=True)\n",
    "\texpanded_data_df.reset_index(drop=True, inplace=True)\n",
    "\treturn expanded_data_df\n",
    "\n",
    "# Sample DataFrame\n",
    "\"\"\" data = pd.DataFrame({\n",
    "\t'text': ['hello', 'world', 'how are you', 'what\\'s your name', 'hi'],\n",
    "\t'target': [0, 0, 0, 1, 1],\n",
    "})\n",
    "\n",
    "target_size = 5\n",
    "\n",
    "# Call the function to expand the dataset\n",
    "expanded_df = expand_dataset(data, target_size)\n",
    "\n",
    "print(expanded_df) \"\"\"\n"
   ]
  },
  {
   "cell_type": "code",
   "execution_count": 7,
   "metadata": {},
   "outputs": [
    {
     "name": "stdout",
     "output_type": "stream",
     "text": [
      "0.5\n",
      "(10000, 7)\n"
     ]
    }
   ],
   "source": [
    "data = loadData('train.csv')\n",
    "data = data.fillna('')\n",
    "data = expand_dataset(data, 5000)\n",
    "data['hashtags'] = data['text'].apply(extractTags)\n",
    "data['normalized_text'] = data['text'].apply(flattenText)\n",
    "target = data['target']\n",
    "print(target[target == 1].count().sum() / target.size)\n",
    "print(data.shape)"
   ]
  },
  {
   "cell_type": "code",
   "execution_count": 8,
   "metadata": {},
   "outputs": [],
   "source": [
    "vectorizer = textVectorizer(data['normalized_text'])\n",
    "hashtags = tagEncoder(data['hashtags'])\n",
    "keywords = keywordEncoder(np.array(data['keyword']).reshape(-1, 1))\n"
   ]
  },
  {
   "cell_type": "code",
   "execution_count": 9,
   "metadata": {},
   "outputs": [],
   "source": [
    "from scipy.sparse import vstack, hstack\n",
    "\n",
    "def rowsToVectors(rows):\n",
    "\treturn hstack([\n",
    "\t\tvectorizer.transform(rows['normalized_text']), \n",
    "\t\thashtags.transform(rows['hashtags']),\n",
    "\t\tkeywords.transform([[keyword] for keyword in rows['keyword']])\n",
    "\t])\n"
   ]
  },
  {
   "cell_type": "code",
   "execution_count": 10,
   "metadata": {},
   "outputs": [
    {
     "data": {
      "text/plain": [
       "(10000, 26024)"
      ]
     },
     "execution_count": 10,
     "metadata": {},
     "output_type": "execute_result"
    }
   ],
   "source": [
    "from scipy.sparse import vstack, hstack\n",
    "#print(hashtags.transform(data['hashtags']).shape)\n",
    "#print(vectorizer.transform(data['normalized_text']).shape)\n",
    "#print(np.array(keywords.transform([[keyword] for keyword in data['keyword']])).shape)\n",
    "#train_data = hstack([\n",
    "#\tvectorizer.transform(data['normalized_text']), \n",
    "#\thashtags.transform(data['hashtags']),\n",
    "#\tkeywords.transform([[keyword] for keyword in data['keyword']])\n",
    "#])\n",
    "train_data = rowsToVectors(data)\n",
    "train_data.shape"
   ]
  },
  {
   "cell_type": "code",
   "execution_count": 11,
   "metadata": {},
   "outputs": [],
   "source": [
    "from sklearn.model_selection import train_test_split\n",
    "\n",
    "X_train, X_test, y_train, y_test = train_test_split(train_data, data['target'], test_size=0.2, random_state=42)\n"
   ]
  },
  {
   "cell_type": "code",
   "execution_count": 12,
   "metadata": {},
   "outputs": [
    {
     "name": "stdout",
     "output_type": "stream",
     "text": [
      "Accuracy: 0.813\n"
     ]
    }
   ],
   "source": [
    "\n",
    "from sklearn.linear_model import LogisticRegression\n",
    "from sklearn.metrics import accuracy_score\n",
    "\n",
    "# Step 4: Model Selection & Step 5: Model Training\n",
    "regrModel = LogisticRegression(max_iter=10000)  # You can choose another model if needed\n",
    "regrModel.fit(X_train, y_train)\n",
    "\n",
    "# Step 6: Model Evaluation\n",
    "y_pred = regrModel.predict(X_test)\n",
    "accuracy = accuracy_score(y_test, y_pred)\n",
    "print(\"Accuracy:\", accuracy)"
   ]
  },
  {
   "cell_type": "code",
   "execution_count": 13,
   "metadata": {},
   "outputs": [
    {
     "name": "stdout",
     "output_type": "stream",
     "text": [
      "Accuracy: 0.799\n",
      "Classification Report:\n",
      "              precision    recall  f1-score   support\n",
      "\n",
      "           0       0.79      0.84      0.81      1043\n",
      "           1       0.81      0.75      0.78       957\n",
      "\n",
      "    accuracy                           0.80      2000\n",
      "   macro avg       0.80      0.80      0.80      2000\n",
      "weighted avg       0.80      0.80      0.80      2000\n",
      "\n"
     ]
    }
   ],
   "source": [
    "import numpy as np\n",
    "import xgboost as xgb\n",
    "from sklearn.metrics import accuracy_score, classification_report\n",
    "\n",
    "xgb_model = xgb.XGBClassifier()\n",
    "\n",
    "xgb_model.fit(X_train, y_train)\n",
    "\n",
    "# Step 5: Make predictions on the testing data\n",
    "y_pred = xgb_model.predict(X_test)\n",
    "\n",
    "# Step 6: Evaluate the model's performance\n",
    "accuracy = accuracy_score(y_test, y_pred)\n",
    "print(\"Accuracy:\", accuracy)\n",
    "\n",
    "# Optionally, you can also print the classification report\n",
    "print(\"Classification Report:\")\n",
    "print(classification_report(y_test, y_pred))"
   ]
  },
  {
   "cell_type": "code",
   "execution_count": 15,
   "metadata": {},
   "outputs": [
    {
     "data": {
      "text/plain": [
       "(6400, 26024)"
      ]
     },
     "execution_count": 15,
     "metadata": {},
     "output_type": "execute_result"
    }
   ],
   "source": [
    "X_train2, X_val, y_train2, y_val = train_test_split(X_train.toarray(), y_train, test_size=0.2, random_state=42)\n",
    "X_train2.shape"
   ]
  },
  {
   "cell_type": "code",
   "execution_count": 24,
   "metadata": {},
   "outputs": [
    {
     "name": "stdout",
     "output_type": "stream",
     "text": [
      "Epoch 1/30\n",
      "100/100 [==============================] - 4s 33ms/step - loss: 0.5470 - accuracy: 0.7534 - val_loss: 0.4267 - val_accuracy: 0.8025\n",
      "Epoch 2/30\n",
      "100/100 [==============================] - 3s 31ms/step - loss: 0.2420 - accuracy: 0.9058 - val_loss: 0.4240 - val_accuracy: 0.8275\n",
      "Epoch 3/30\n",
      "100/100 [==============================] - 3s 30ms/step - loss: 0.0938 - accuracy: 0.9708 - val_loss: 0.4948 - val_accuracy: 0.8213\n",
      "Epoch 4/30\n",
      "100/100 [==============================] - 3s 30ms/step - loss: 0.0429 - accuracy: 0.9859 - val_loss: 0.5506 - val_accuracy: 0.8181\n",
      "Epoch 5/30\n",
      "100/100 [==============================] - 3s 30ms/step - loss: 0.0253 - accuracy: 0.9919 - val_loss: 0.5924 - val_accuracy: 0.8219\n",
      "Epoch 6/30\n",
      "100/100 [==============================] - 3s 29ms/step - loss: 0.0174 - accuracy: 0.9934 - val_loss: 0.6292 - val_accuracy: 0.8156\n",
      "Epoch 7/30\n",
      "100/100 [==============================] - 3s 29ms/step - loss: 0.0156 - accuracy: 0.9950 - val_loss: 0.6453 - val_accuracy: 0.8181\n",
      "63/63 [==============================] - 0s 3ms/step - loss: 0.3813 - accuracy: 0.8400\n",
      "Test loss: 0.3813, Test accuracy: 0.8400\n"
     ]
    }
   ],
   "source": [
    "import numpy as np\n",
    "from tensorflow import keras\n",
    "from tensorflow.keras.models import Sequential\n",
    "from tensorflow.keras.layers import Dense, Dropout\n",
    "from tensorflow.keras.callbacks import EarlyStopping, ModelCheckpoint\n",
    "\n",
    "X = X_train2\n",
    "y = y_train2\n",
    "# Assuming you have the following data:\n",
    "# X_train: One-hot encoded input training data (shape: [num_samples, input_size])\n",
    "# y_train: Binary labels for training data (shape: [num_samples,])\n",
    "\n",
    "# Define the neural network architecture\n",
    "neural_model = Sequential()\n",
    "neural_model.add(Dense(128, activation='relu', input_shape=(X.shape[1],)))\n",
    "neural_model.add(Dropout(0.2))\n",
    "neural_model.add(Dense(64, activation='relu'))\n",
    "neural_model.add(Dropout(0.2))\n",
    "neural_model.add(Dense(1, activation='sigmoid'))  # Output layer with sigmoid activation for binary classification\n",
    "\n",
    "# Compile the model\n",
    "neural_model.compile(optimizer='adam', loss='binary_crossentropy', metrics=['accuracy'])\n",
    "\n",
    "# Define early stopping and model checkpoint callbacks\n",
    "early_stopping = EarlyStopping(monitor='val_loss', patience=5, restore_best_weights=True)\n",
    "checkpoint = ModelCheckpoint('best_model.h5', monitor='val_loss', save_best_only=True)\n",
    "\n",
    "# Train the model\n",
    "history = neural_model.fit(X, y, epochs=30, batch_size=64, validation_data=(X_val, y_val), callbacks=[early_stopping, checkpoint])\n",
    "\n",
    "# Evaluate the model on the test set\n",
    "loss, accuracy = neural_model.evaluate(X_test.toarray(), y_test)\n",
    "print(f'Test loss: {loss:.4f}, Test accuracy: {accuracy:.4f}')"
   ]
  },
  {
   "cell_type": "code",
   "execution_count": 28,
   "metadata": {},
   "outputs": [],
   "source": [
    "np.random.seed(None)\n",
    "def example(model, count):\n",
    "\trandom_row_indices = np.random.choice(data.shape[0], count, replace=False)\n",
    "\trandom_rows = data.iloc[random_row_indices]\n",
    "\ttransformed_data = rowsToVectors(random_rows)\n",
    "\tpredictions = np.round(model.predict(transformed_data.toarray(), verbose=0), 2)\n",
    "\tfor i in range(len(random_row_indices)):\n",
    "\t\treal_index = random_row_indices[i]\n",
    "\t\tprint(f\"{predictions[i]} ({data.iloc[real_index]['target']}): {data.iloc[real_index]['text']}\")"
   ]
  },
  {
   "cell_type": "code",
   "execution_count": 29,
   "metadata": {},
   "outputs": [
    {
     "name": "stdout",
     "output_type": "stream",
     "text": [
      "[0.13] (1): Brand man pikin clangoring? ?? ???\n",
      "[0.07] (0): Watch Sarah Palin OBLITERATE Planned Parenthood For Targeting Minority Women! ÛÒ BB4SP http://t.co/fqMYprlG9g\n",
      "[0.9] (1): I came up with an idea of a fragrance concept for a bath bomb called The Blood of my Enemies. So you can say that's what you bathe in.\n",
      "[0.35] (0): #LukeBox something about first responders/ military they are our true Hero's!! Besides your music\n",
      "[0.14] (0): This real shit will damage a bitch\n",
      "[0.55] (0): They sky was ablaze tonight in Los Angeles. I'm expecting IG and FB to be filled with sunset shots if I know my peeps!!\n",
      "[0.02] (0): @Jolly_Jinu you said they are terrorist because of #Babri so was it ok? If you demolish my house todayhave i right to take revenge?\n",
      "[0.99] (1): US drone bombs Islamic State target in Syria after taking off from Turkey: A US armed drone has bombed a targe... http://t.co/m0daP5xLwo\n",
      "[0.89] (1): If you ' ray in search of herculean content to improve your business operating theater let been frustrated with the cloudburst of ' quantit  Û_https: / / t. centennial state / 64cyMG1lTG\n",
      "[0.02] (0): @jamienye u can't blame it all on coaching management penalties defence or injuries. Cursed is probably a good way to put it! #riders\n"
     ]
    }
   ],
   "source": [
    "num_random_rows = 10\n",
    "example(neural_model, num_random_rows)"
   ]
  }
 ],
 "metadata": {
  "kernelspec": {
   "display_name": "Python 3",
   "language": "python",
   "name": "python3"
  },
  "language_info": {
   "codemirror_mode": {
    "name": "ipython",
    "version": 3
   },
   "file_extension": ".py",
   "mimetype": "text/x-python",
   "name": "python",
   "nbconvert_exporter": "python",
   "pygments_lexer": "ipython3",
   "version": "3.10.12"
  },
  "orig_nbformat": 4
 },
 "nbformat": 4,
 "nbformat_minor": 2
}
